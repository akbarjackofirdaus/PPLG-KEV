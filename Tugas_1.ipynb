{
  "nbformat": 4,
  "nbformat_minor": 0,
  "metadata": {
    "colab": {
      "provenance": [],
      "authorship_tag": "ABX9TyNf+ZQPn0ukNbdx7chCwOba",
      "include_colab_link": true
    },
    "kernelspec": {
      "name": "python3",
      "display_name": "Python 3"
    },
    "language_info": {
      "name": "python"
    }
  },
  "cells": [
    {
      "cell_type": "markdown",
      "metadata": {
        "id": "view-in-github",
        "colab_type": "text"
      },
      "source": [
        "<a href=\"https://colab.research.google.com/github/akbarjfirdaus/PPLG-KEV/blob/main/Tugas_1.ipynb\" target=\"_parent\"><img src=\"https://colab.research.google.com/assets/colab-badge.svg\" alt=\"Open In Colab\"/></a>"
      ]
    },
    {
      "cell_type": "markdown",
      "source": [
        "1. Buatlah sebuah program untuk menentukan bilangan positif, negatif, dan bilangan nol."
      ],
      "metadata": {
        "id": "4fW6F9QUToUz"
      }
    },
    {
      "cell_type": "code",
      "source": [
        "# Meminta input dari pengguna\n",
        "bilangan = int(input(\"Masukkan sebuah bilangan: \"))\n",
        "\n",
        "# Memeriksa apakah bilangan positif, negatif, atau nol\n",
        "if bilangan > 0:\n",
        "    print(\"Bilangan ini adalah bilangan positif.\")\n",
        "elif bilangan < 0:\n",
        "    print(\"Bilangan ini adalah bilangan negatif.\")\n",
        "else:\n",
        "    print(\"Bilangan ini adalah nol.\")"
      ],
      "metadata": {
        "colab": {
          "base_uri": "https://localhost:8080/"
        },
        "id": "B76QwcY0TsXp",
        "outputId": "3064987d-5b41-488d-c0f6-27fb501daf12"
      },
      "execution_count": null,
      "outputs": [
        {
          "output_type": "stream",
          "name": "stdout",
          "text": [
            "Masukkan sebuah bilangan: -5\n",
            "Bilangan ini adalah bilangan negatif.\n"
          ]
        }
      ]
    }
  ]
}