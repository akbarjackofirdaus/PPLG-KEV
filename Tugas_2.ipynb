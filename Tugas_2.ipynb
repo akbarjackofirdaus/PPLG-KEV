{
  "nbformat": 4,
  "nbformat_minor": 0,
  "metadata": {
    "colab": {
      "provenance": [],
      "authorship_tag": "ABX9TyM4cVDpcomqeETD11skiMMX",
      "include_colab_link": true
    },
    "kernelspec": {
      "name": "python3",
      "display_name": "Python 3"
    },
    "language_info": {
      "name": "python"
    }
  },
  "cells": [
    {
      "cell_type": "markdown",
      "metadata": {
        "id": "view-in-github",
        "colab_type": "text"
      },
      "source": [
        "<a href=\"https://colab.research.google.com/github/akbarjfirdaus/PPLG-KEV/blob/main/Tugas_2.ipynb\" target=\"_parent\"><img src=\"https://colab.research.google.com/assets/colab-badge.svg\" alt=\"Open In Colab\"/></a>"
      ]
    },
    {
      "cell_type": "markdown",
      "source": [
        "2. Sebuah toko sepatu menawarkan diskon 10% untuk pembelian sepatu dengan harga lebih dari Rp.500.000 dan diskon 5% untuk pembelian sepatu lebih dari Rp.100.000, buatlah program python untuk menghitung harga akhir pembelian sepatu menggunakan kondisi if, elif, else, buatkan juga algoritma dan flowchartnya."
      ],
      "metadata": {
        "id": "gpcmq-awUk0H"
      }
    },
    {
      "cell_type": "code",
      "source": [
        "# Input harga sepatu\n",
        "harga_sepatu = int(input(\"Masukkan harga sepatu: \"))\n",
        "\n",
        "# Hitung diskon berdasarkan harga sepatu\n",
        "if harga_sepatu > 500000:\n",
        "    diskon = 0.10  # Diskon 10% untuk harga di atas Rp.500.000\n",
        "elif harga_sepatu > 100000:\n",
        "    diskon = 0.05  # Diskon 5% untuk harga di atas Rp.100.000\n",
        "\n",
        "# Hitung harga akhir\n",
        "harga_diskon = harga_sepatu - (harga_sepatu * diskon)\n",
        "\n",
        "# Tampilkan harga akhir\n",
        "print(f\"Harga akhir pembelian sepatu: Rp {harga_diskon:.2f}\")"
      ],
      "metadata": {
        "id": "pW200rDHU-jX",
        "colab": {
          "base_uri": "https://localhost:8080/"
        },
        "outputId": "dc944fd5-0a24-45be-a3af-e5cff5d21b42"
      },
      "execution_count": null,
      "outputs": [
        {
          "output_type": "stream",
          "name": "stdout",
          "text": [
            "Masukkan harga sepatu: 1000000\n",
            "Harga akhir pembelian sepatu: Rp 900000.00\n"
          ]
        }
      ]
    },
    {
      "cell_type": "markdown",
      "source": [
        "Algoritma:\n",
        "\n",
        "- Minta pengguna memasukkan harga sepatu.\n",
        "- Gunakan struktur if-elif-else untuk menghitung diskon berdasarkan harga sepatu:\n",
        " - Jika harga sepatu lebih dari Rp.500.000, maka berikan diskon 10%.\n",
        " - Jika harga sepatu lebih dari Rp.100.000, maka berikan diskon 5%.\n",
        " - Jika harga sepatu tidak memenuhi kriteria di atas, maka tidak ada diskon.\n",
        "- Hitung harga akhir dengan mengurangkan diskon dari harga sepatu.\n",
        "- Tampilkan harga akhir pembelian sepatu."
      ],
      "metadata": {
        "id": "eY21xfxenIto"
      }
    }
  ]
}