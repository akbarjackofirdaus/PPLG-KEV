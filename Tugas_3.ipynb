{
  "nbformat": 4,
  "nbformat_minor": 0,
  "metadata": {
    "colab": {
      "provenance": [],
      "authorship_tag": "ABX9TyPETcQiv6InJn+zWf00upCT",
      "include_colab_link": true
    },
    "kernelspec": {
      "name": "python3",
      "display_name": "Python 3"
    },
    "language_info": {
      "name": "python"
    }
  },
  "cells": [
    {
      "cell_type": "markdown",
      "metadata": {
        "id": "view-in-github",
        "colab_type": "text"
      },
      "source": [
        "<a href=\"https://colab.research.google.com/github/akbarjfirdaus/PPLG-KEV/blob/main/Tugas_3.ipynb\" target=\"_parent\"><img src=\"https://colab.research.google.com/assets/colab-badge.svg\" alt=\"Open In Colab\"/></a>"
      ]
    },
    {
      "cell_type": "markdown",
      "source": [
        "3. Buatlah sebuah game sederhana menggunakan bahasa python beserta algoritma dan flowchartnya."
      ],
      "metadata": {
        "id": "ckA8GHzEoqDb"
      }
    },
    {
      "cell_type": "code",
      "source": [
        "import random\n",
        "\n",
        "def tebak_angka():\n",
        "    angka_rahasia = random.randint(1, 100)\n",
        "    tebakan = 0\n",
        "    kesempatan = 0\n",
        "\n",
        "    print(\"Selamat datang di Game Tebak Angka!\")\n",
        "    print(\"Saya telah memilih angka antara 1 dan 100.\")\n",
        "\n",
        "    while tebakan != angka_rahasia:\n",
        "        try:\n",
        "            tebakan = int(input(\"Tebak angka: \"))\n",
        "        except ValueError:\n",
        "            print(\"Masukkan angka yang valid.\")\n",
        "            continue\n",
        "\n",
        "        kesempatan += 1\n",
        "\n",
        "        if tebakan < angka_rahasia:\n",
        "            print(\"Angka terlalu kecil. Coba lagi.\")\n",
        "        elif tebakan > angka_rahasia:\n",
        "            print(\"Angka terlalu besar. Coba lagi.\")\n",
        "        else:\n",
        "            print(f\"Selamat! Anda berhasil menebak angka {angka_rahasia} dalam {kesempatan} kesempatan.\")\n",
        "\n",
        "tebak_angka()"
      ],
      "metadata": {
        "id": "crvgJWr7oxg9",
        "colab": {
          "base_uri": "https://localhost:8080/"
        },
        "outputId": "04d1296e-0679-4a7a-b1eb-2dfb39a6afa7"
      },
      "execution_count": null,
      "outputs": [
        {
          "output_type": "stream",
          "name": "stdout",
          "text": [
            "Selamat datang di Game Tebak Angka!\n",
            "Saya telah memilih angka antara 1 dan 100.\n",
            "Tebak angka: 1\n",
            "Angka terlalu kecil. Coba lagi.\n",
            "Tebak angka: 100\n",
            "Angka terlalu besar. Coba lagi.\n",
            "Tebak angka: 50\n",
            "Angka terlalu kecil. Coba lagi.\n",
            "Tebak angka: 60\n",
            "Angka terlalu kecil. Coba lagi.\n",
            "Tebak angka: 70\n",
            "Angka terlalu kecil. Coba lagi.\n",
            "Tebak angka: 80\n",
            "Angka terlalu kecil. Coba lagi.\n",
            "Tebak angka: 90\n",
            "Angka terlalu besar. Coba lagi.\n",
            "Tebak angka: 85\n",
            "Angka terlalu besar. Coba lagi.\n",
            "Tebak angka: 84\n",
            "Selamat! Anda berhasil menebak angka 84 dalam 9 kesempatan.\n"
          ]
        }
      ]
    },
    {
      "cell_type": "markdown",
      "source": [
        "# **Algoritma**\n",
        "\n",
        "1.Mulai game dengan menghasilkan angka acak antara 1 dan 100 (atau Anda bisa memilih rentang angka yang berbeda).\n",
        "\n",
        "2.Inisialisasi variabel untuk menghitung tebakan pemain dan variabel untuk menyimpan angka rahasia.\n",
        "\n",
        "3.Tampilkan pesan selamat datang dan instruksi permainan kepada pemain.\n",
        "\n",
        "4.Loop utama permainan:\n",
        "\n",
        "- Meminta pemain untuk memasukkan tebakan angka.\n",
        "- Validasi input pemain untuk memastikan itu adalah angka yang valid.\n",
        "- Bandingkan tebakan pemain dengan angka rahasia:\n",
        "  - Jika tebakan pemain terlalu kecil, beri tahu pemain bahwa angka terlalu kecil.\n",
        "  - Jika tebakan pemain terlalu besar, beri tahu pemain bahwa angka terlalu besar.\n",
        "  - Jika tebakan pemain benar, beri tahu pemain bahwa mereka berhasil menebak angka.\n",
        "  - Tingkatkan jumlah tebakan yang telah dilakukan.\n",
        "5.Akhiri permainan dengan menampilkan jumlah tebakan yang diperlukan pemain untuk menebak angka.\n",
        "\n",
        "6.(Opsional) Berikan pemain opsi untuk memainkan game lagi."
      ],
      "metadata": {
        "id": "nw053-ovTzby"
      }
    }
  ]
}