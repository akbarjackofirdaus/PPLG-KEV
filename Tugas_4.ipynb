{
  "nbformat": 4,
  "nbformat_minor": 0,
  "metadata": {
    "colab": {
      "provenance": [],
      "authorship_tag": "ABX9TyONaw7M/g/qrYgOZ9mp87PM",
      "include_colab_link": true
    },
    "kernelspec": {
      "name": "python3",
      "display_name": "Python 3"
    },
    "language_info": {
      "name": "python"
    }
  },
  "cells": [
    {
      "cell_type": "markdown",
      "metadata": {
        "id": "view-in-github",
        "colab_type": "text"
      },
      "source": [
        "<a href=\"https://colab.research.google.com/github/akbarjfirdaus/PPLG-KEV/blob/main/Tugas_4.ipynb\" target=\"_parent\"><img src=\"https://colab.research.google.com/assets/colab-badge.svg\" alt=\"Open In Colab\"/></a>"
      ]
    },
    {
      "cell_type": "markdown",
      "source": [
        "4. buatlah sebuah program sederhana menggunakan perulangan dan buatkan algoritma dan flowchartnya!"
      ],
      "metadata": {
        "id": "p7Lo-Qy1UtlE"
      }
    },
    {
      "cell_type": "code",
      "source": [
        "angka = 1\n",
        "while angka != 0:\n",
        "    angka = int(input(\"Masukkan sebuah angka (0 untuk keluar): \"))\n",
        "    print(\"Anda memasukkan angka:\", angka)"
      ],
      "metadata": {
        "colab": {
          "base_uri": "https://localhost:8080/"
        },
        "id": "SFNYU1CYU0Hy",
        "outputId": "dbc4661c-4f0b-4b0d-dfee-d1803e520ee4"
      },
      "execution_count": null,
      "outputs": [
        {
          "output_type": "stream",
          "name": "stdout",
          "text": [
            "Masukkan sebuah angka (0 untuk keluar): 1\n",
            "Anda memasukkan angka: 1\n",
            "Masukkan sebuah angka (0 untuk keluar): 2\n",
            "Anda memasukkan angka: 2\n",
            "Masukkan sebuah angka (0 untuk keluar): 0\n",
            "Anda memasukkan angka: 0\n"
          ]
        }
      ]
    },
    {
      "cell_type": "markdown",
      "source": [
        "# **Algoritma**\n",
        "\n",
        "1. Mulai\n",
        "2. Inisialisasi variabel angka dengan nilai yang bukan 0 (misalnya, 1)\n",
        "3. Selama nilai angka bukan 0:\n",
        "     1. Minta pengguna memasukkan sebuah angka dan simpan dalam variabel angka\n",
        "     2. Cetak nilai angka\n",
        "4. Selesai"
      ],
      "metadata": {
        "id": "Yayp87IUVabZ"
      }
    }
  ]
}